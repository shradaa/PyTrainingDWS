{
 "cells": [
  {
   "cell_type": "code",
   "execution_count": 2,
   "metadata": {},
   "outputs": [
    {
     "name": "stdout",
     "output_type": "stream",
     "text": [
      "1\n",
      "2\n"
     ]
    },
    {
     "data": {
      "text/plain": [
       "3"
      ]
     },
     "execution_count": 2,
     "metadata": {},
     "output_type": "execute_result"
    }
   ],
   "source": [
    "def add(a,b):\n",
    "    return(a+b)\n",
    "add(int(input()),int(input()))"
   ]
  },
  {
   "cell_type": "code",
   "execution_count": 7,
   "metadata": {},
   "outputs": [
    {
     "name": "stdout",
     "output_type": "stream",
     "text": [
      "----------\n",
      "hello world\n",
      "----------\n"
     ]
    }
   ],
   "source": [
    "def dash():\n",
    "    print(\"-\"*10)\n",
    "    print(\"hello world\")\n",
    "    print(\"-\"*10)\n",
    "dash()"
   ]
  },
  {
   "cell_type": "code",
   "execution_count": 10,
   "metadata": {},
   "outputs": [
    {
     "name": "stdout",
     "output_type": "stream",
     "text": [
      "12\n",
      "2\n",
      "The sum of 12+2 is:14\n"
     ]
    }
   ],
   "source": [
    "def add(a,b):\n",
    "    print(\"The sum of {0}+{1} is:\".format(a,b)+str(int(a+b)))\n",
    "    \n",
    "add(int(input()),int(input()))\n"
   ]
  },
  {
   "cell_type": "code",
   "execution_count": 3,
   "metadata": {},
   "outputs": [
    {
     "name": "stdout",
     "output_type": "stream",
     "text": [
      "12\n",
      "the square of 12 is:144\n"
     ]
    }
   ],
   "source": [
    "def square(a):\n",
    "    print(\"the square of {0} is:\".format(a)+ str(int(a*a)))\n",
    "\n",
    "square(int(input()))"
   ]
  },
  {
   "cell_type": "code",
   "execution_count": 1,
   "metadata": {},
   "outputs": [
    {
     "name": "stdout",
     "output_type": "stream",
     "text": [
      "Default style\n",
      "+++++++++++++++++++++++++++++\n",
      "hello world\n",
      "+++++++++++++++++++++++++++++\n",
      "\n",
      "style character *\n",
      "*****************************\n",
      "hello world\n",
      "*****************************\n",
      "\n",
      "style character =\n",
      "=============================\n",
      "hello world\n",
      "=============================\n"
     ]
    }
   ],
   "source": [
    "def greeting(style_char=\"+\"):\n",
    "    print(style_char*29)\n",
    "    print(\"hello world\")\n",
    "    print(style_char*29)\n",
    "\n",
    "print(\"Default style\")\n",
    "greeting()\n",
    "print(\"\\nstyle character *\")\n",
    "greeting('*')\n",
    "print(\"\\nstyle character =\")\n",
    "greeting(style_char='=')"
   ]
  },
  {
   "cell_type": "code",
   "execution_count": 6,
   "metadata": {},
   "outputs": [
    {
     "name": "stdout",
     "output_type": "stream",
     "text": [
      "shradd\n",
      "maha\n",
      "9801\n",
      "fname:shradd\n",
      "lname:maha\n",
      "phn number:9801\n"
     ]
    }
   ],
   "source": [
    "def contact(a,b,c=\"******\"):\n",
    "    print(\"fname:\"+a)\n",
    "    print(\"lname:\"+b)\n",
    "    print(\"phn number:\"+c)\n",
    "    \n",
    "contact(input(),input(),input())"
   ]
  },
  {
   "cell_type": "code",
   "execution_count": 8,
   "metadata": {},
   "outputs": [
    {
     "name": "stdout",
     "output_type": "stream",
     "text": [
      "9\n"
     ]
    }
   ],
   "source": [
    "def function(**kwargs):\n",
    "    total  = 0\n",
    "    for k,v in kwargs.items():\n",
    "        total += kwargs.get(k)\n",
    "    print(total)\n",
    "    \n",
    "function(x=1,y=2,z=6)\n",
    "    "
   ]
  }
 ],
 "metadata": {
  "kernelspec": {
   "display_name": "Python 3",
   "language": "python",
   "name": "python3"
  },
  "language_info": {
   "codemirror_mode": {
    "name": "ipython",
    "version": 3
   },
   "file_extension": ".py",
   "mimetype": "text/x-python",
   "name": "python",
   "nbconvert_exporter": "python",
   "pygments_lexer": "ipython3",
   "version": "3.6.7"
  }
 },
 "nbformat": 4,
 "nbformat_minor": 2
}
