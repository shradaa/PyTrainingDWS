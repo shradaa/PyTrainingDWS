{
 "cells": [
  {
   "cell_type": "markdown",
   "metadata": {},
   "source": [
    "# Decision making"
   ]
  },
  {
   "cell_type": "markdown",
   "metadata": {},
   "source": [
    "- Decision structures evaluate multiple expressions which produce `TRUE` or `FALSE` as outcome. \n",
    "- You need to determine which action to take and which statements to execute if outcome is `TRUE` or `FALSE` \n",
    "- Python assumes any non-zero or non-null values as `True`, and if it is either zero or null, then it is assumed as `False`\n",
    "- Python supports following decision making statements:\n",
    "    - if statements\n",
    "    - if...else statements\n",
    "    - Nested if statements\n",
    "- No switch-case statements for python"
   ]
  },
  {
   "cell_type": "markdown",
   "metadata": {},
   "source": [
    "# if statements"
   ]
  },
  {
   "cell_type": "markdown",
   "metadata": {},
   "source": [
    "Syntax\n",
    "\n",
    "```python\n",
    "if expression:\n",
    "       if_suite\n",
    "```\n",
    "\n",
    "- if expression is True or non-zero the if suite is executed. \n",
    "- Suite means the sub-block of code and may contain single or multiple lines of codes"
   ]
  },
  {
   "cell_type": "code",
   "execution_count": 3,
   "metadata": {},
   "outputs": [
    {
     "name": "stdout",
     "output_type": "stream",
     "text": [
      "world\n",
      "Password match\n"
     ]
    }
   ],
   "source": [
    "x = input()\n",
    "y = \"world\"\n",
    "if x == y:\n",
    "    print(\"Password match\")\n",
    "else:\n",
    "    print(\"error\")"
   ]
  },
  {
   "cell_type": "code",
   "execution_count": 5,
   "metadata": {},
   "outputs": [
    {
     "name": "stdout",
     "output_type": "stream",
     "text": [
      "Odd number\n"
     ]
    }
   ],
   "source": []
  },
  {
   "cell_type": "markdown",
   "metadata": {},
   "source": [
    "# if..else statements"
   ]
  },
  {
   "cell_type": "markdown",
   "metadata": {},
   "source": [
    "Syntax:\n",
    "\n",
    "```python\n",
    "if expression1:\n",
    "    if_suite\n",
    "elif expression2:\n",
    "    elif_suite\n",
    "else:\n",
    "    else_suite\n",
    "```"
   ]
  },
  {
   "cell_type": "code",
   "execution_count": 11,
   "metadata": {},
   "outputs": [
    {
     "name": "stdout",
     "output_type": "stream",
     "text": [
      "Enter anything56\n",
      "56\n",
      "56.0\n"
     ]
    }
   ],
   "source": []
  },
  {
   "cell_type": "code",
   "execution_count": null,
   "metadata": {},
   "outputs": [],
   "source": []
  },
  {
   "cell_type": "markdown",
   "metadata": {},
   "source": [
    "# Nested statements\n",
    "\n",
    "Syntax:\n",
    "```python\n",
    "if expression1:\n",
    "    statement(s)\n",
    "    if expression2:\n",
    "        statement(s)\n",
    "    elif expression3:\n",
    "        statement(s)\n",
    "    else:\n",
    "        statement(s)\n",
    "else:\n",
    "    statement(s)\n",
    "```"
   ]
  },
  {
   "cell_type": "code",
   "execution_count": null,
   "metadata": {},
   "outputs": [],
   "source": []
  },
  {
   "cell_type": "code",
   "execution_count": null,
   "metadata": {},
   "outputs": [],
   "source": []
  },
  {
   "cell_type": "markdown",
   "metadata": {},
   "source": [
    "# Ternary\n",
    "- In C programming:\n",
    "```C\n",
    "max = (a > b) ? a : b;\n",
    "```\n",
    "In Python\n",
    "```python\n",
    "max = a if (a > b) else b\n",
    "```\n",
    "\n",
    "\n",
    "- ternary if statement is more than an abbreviation. It is an expression, which can be used within another expression:\n",
    "```python\n",
    "max = (a if (a > b) else b) * 2.45 - 4\n",
    "```"
   ]
  },
  {
   "cell_type": "code",
   "execution_count": null,
   "metadata": {},
   "outputs": [],
   "source": []
  },
  {
   "cell_type": "code",
   "execution_count": null,
   "metadata": {},
   "outputs": [],
   "source": []
  },
  {
   "cell_type": "markdown",
   "metadata": {},
   "source": [
    "Q1. We have v=u+at where v is velocity, u is initial velocity, and t is time. And value for each is as\n",
    "follows: v=25m/s. u=0m/s, t=10 seconds. Find the acceleration a. [Rearrange the equation, also use\n",
    "proper formatting syntax while displaying the answer.]\n",
    "\n",
    "\n",
    "Q2. Get first name and last name from a user and concatenate them to make a full name.\n",
    "\n",
    "\n",
    "Q3. Take an arbitrary input string from user and print it 10 times.\n",
    "\n",
    "\n",
    "Q4. Override ending argument in print function to print \"**\" at the end.\n",
    "\n",
    "\n",
    "Q5. Write a program that takes three numbers and prints their sum. Every number is given on a separate line. "
   ]
  },
  {
   "cell_type": "markdown",
   "metadata": {},
   "source": [
    "Write a program which accepts a sequence of comma-separated numbers from console and generate a list and a tuple which contains every number.\n",
    "Suppose the following input is supplied to the program:\n",
    "\n",
    "34,67,55,33,12,98\n",
    "\n",
    "Then, the output should be:\n",
    "\n",
    "['34', '67', '55', '33', '12', '98']\n",
    "\n",
    "('34', '67', '55', '33', '12', '98')"
   ]
  },
  {
   "cell_type": "markdown",
   "metadata": {},
   "source": [
    "Write a program that accepts a sequence of whitespace separated words as input and prints the words \n",
    "\n",
    "after removing all duplicate words and sorting them alphanumerically.\n",
    "\n",
    "Suppose the following input is supplied to the program:\n",
    "\n",
    "**hello world and practice makes perfect and hello world again**\n",
    "\n",
    "Then, the output should be:\n",
    "**again and hello makes perfect practice world**"
   ]
  },
  {
   "cell_type": "code",
   "execution_count": null,
   "metadata": {},
   "outputs": [],
   "source": []
  },
  {
   "cell_type": "code",
   "execution_count": null,
   "metadata": {},
   "outputs": [],
   "source": []
  }
 ],
 "metadata": {
  "kernelspec": {
   "display_name": "Python 3",
   "language": "python",
   "name": "python3"
  },
  "language_info": {
   "codemirror_mode": {
    "name": "ipython",
    "version": 3
   },
   "file_extension": ".py",
   "mimetype": "text/x-python",
   "name": "python",
   "nbconvert_exporter": "python",
   "pygments_lexer": "ipython3",
   "version": "3.6.7"
  }
 },
 "nbformat": 4,
 "nbformat_minor": 1
}
