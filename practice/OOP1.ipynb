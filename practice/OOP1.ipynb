{
 "cells": [
  {
   "cell_type": "code",
   "execution_count": 9,
   "metadata": {},
   "outputs": [],
   "source": [
    "class Myclass:\n",
    "    pass\n",
    "    \n",
    "   "
   ]
  },
  {
   "cell_type": "code",
   "execution_count": 11,
   "metadata": {},
   "outputs": [
    {
     "data": {
      "text/plain": [
       "<__main__.Myclass at 0x585b050>"
      ]
     },
     "execution_count": 11,
     "metadata": {},
     "output_type": "execute_result"
    }
   ],
   "source": [
    " Myclass()"
   ]
  },
  {
   "cell_type": "code",
   "execution_count": 17,
   "metadata": {},
   "outputs": [],
   "source": [
    "\n",
    "\n"
   ]
  },
  {
   "cell_type": "code",
   "execution_count": 6,
   "metadata": {},
   "outputs": [],
   "source": [
    "class animal:\n",
    "    \"\"\"This is animal class\"\"\"\n",
    "    def dog(self):\n",
    "        print(\"Dog barks\")\n",
    "    def cat(self):\n",
    "        print(\"Cat mews\")\n"
   ]
  },
  {
   "cell_type": "code",
   "execution_count": 7,
   "metadata": {},
   "outputs": [],
   "source": [
    "x=animal()\n"
   ]
  },
  {
   "cell_type": "code",
   "execution_count": 8,
   "metadata": {},
   "outputs": [
    {
     "name": "stdout",
     "output_type": "stream",
     "text": [
      "Dog barks\n",
      "Cat mews\n"
     ]
    }
   ],
   "source": [
    "x.dog()\n",
    "x.cat()"
   ]
  },
  {
   "cell_type": "code",
   "execution_count": 9,
   "metadata": {},
   "outputs": [
    {
     "data": {
      "text/plain": [
       "'This is animal class'"
      ]
     },
     "execution_count": 9,
     "metadata": {},
     "output_type": "execute_result"
    }
   ],
   "source": [
    "x.__doc__"
   ]
  },
  {
   "cell_type": "code",
   "execution_count": 10,
   "metadata": {},
   "outputs": [
    {
     "data": {
      "text/plain": [
       "['__class__',\n",
       " '__delattr__',\n",
       " '__dict__',\n",
       " '__dir__',\n",
       " '__doc__',\n",
       " '__eq__',\n",
       " '__format__',\n",
       " '__ge__',\n",
       " '__getattribute__',\n",
       " '__gt__',\n",
       " '__hash__',\n",
       " '__init__',\n",
       " '__init_subclass__',\n",
       " '__le__',\n",
       " '__lt__',\n",
       " '__module__',\n",
       " '__ne__',\n",
       " '__new__',\n",
       " '__reduce__',\n",
       " '__reduce_ex__',\n",
       " '__repr__',\n",
       " '__setattr__',\n",
       " '__sizeof__',\n",
       " '__str__',\n",
       " '__subclasshook__',\n",
       " '__weakref__',\n",
       " 'cat',\n",
       " 'dog']"
      ]
     },
     "execution_count": 10,
     "metadata": {},
     "output_type": "execute_result"
    }
   ],
   "source": [
    "dir(x)"
   ]
  },
  {
   "cell_type": "code",
   "execution_count": 15,
   "metadata": {},
   "outputs": [],
   "source": [
    "class Point:\n",
    "    pass\n",
    "\n",
    "p1=Point() #instansiation\n",
    "p2=Point()"
   ]
  },
  {
   "cell_type": "code",
   "execution_count": 16,
   "metadata": {},
   "outputs": [],
   "source": [
    "p1.x = 5\n",
    "p1.y = 6"
   ]
  },
  {
   "cell_type": "code",
   "execution_count": 17,
   "metadata": {},
   "outputs": [],
   "source": [
    "p2.x = 6\n",
    "p2.y = 7\n"
   ]
  },
  {
   "cell_type": "code",
   "execution_count": 19,
   "metadata": {},
   "outputs": [
    {
     "name": "stdout",
     "output_type": "stream",
     "text": [
      "5\n",
      "6\n"
     ]
    }
   ],
   "source": [
    "print(p1.x)\n",
    "print(p2.x)"
   ]
  },
  {
   "cell_type": "code",
   "execution_count": 21,
   "metadata": {},
   "outputs": [
    {
     "name": "stdout",
     "output_type": "stream",
     "text": [
      "6\n",
      "7\n"
     ]
    }
   ],
   "source": [
    "print(p1.y)\n",
    "print(p2.y)"
   ]
  },
  {
   "cell_type": "code",
   "execution_count": 30,
   "metadata": {},
   "outputs": [],
   "source": [
    "class Point:\n",
    "    def reset(self):\n",
    "        self.x=10\n",
    "        self.y=10\n",
    "        \n",
    "p1=Point()\n",
    "p2=Point()\n",
    "    "
   ]
  },
  {
   "cell_type": "code",
   "execution_count": 31,
   "metadata": {},
   "outputs": [],
   "source": [
    "p1.x = 5\n",
    "p1.y = 6"
   ]
  },
  {
   "cell_type": "code",
   "execution_count": 32,
   "metadata": {},
   "outputs": [],
   "source": [
    "p2.x = 6\n",
    "p2.y = 7"
   ]
  },
  {
   "cell_type": "code",
   "execution_count": 35,
   "metadata": {},
   "outputs": [],
   "source": [
    "p2.reset()"
   ]
  },
  {
   "cell_type": "code",
   "execution_count": 37,
   "metadata": {},
   "outputs": [
    {
     "name": "stdout",
     "output_type": "stream",
     "text": [
      "10\n"
     ]
    }
   ],
   "source": [
    "print(p2.x)"
   ]
  },
  {
   "cell_type": "code",
   "execution_count": 19,
   "metadata": {},
   "outputs": [],
   "source": [
    "class Animals2:\n",
    "    \"\"\"Blue print of animal\"\"\"\n",
    "    def __init__(self, name, age):\n",
    "        self.name = name\n",
    "        self.age = age\n",
    "    def sound(self, x):\n",
    "        print(\"the sound of {0} is {1} \".format(self.name,x))\n",
    "    def walk(self, x):\n",
    "        print(\"{0} uses {1} to walk \".format(self.name,x))\n",
    "    def eat(self, x):\n",
    "        print(\"{0} eats {1}\".format(self.name,x))\n",
    "        \n",
    "dog = Animals2('dog',12)\n",
    "cat = Animals2('cat',10)\n",
    "    "
   ]
  },
  {
   "cell_type": "code",
   "execution_count": 21,
   "metadata": {},
   "outputs": [
    {
     "name": "stdout",
     "output_type": "stream",
     "text": [
      "the sound of dog is bark \n",
      "the sound of cat is meow \n",
      "dog uses legs to walk \n",
      "dog eats Pedigree\n"
     ]
    }
   ],
   "source": [
    "dog.sound(\"bark\")\n",
    "cat.sound(\"meow\")\n",
    "dog.walk(\"legs\")\n",
    "dog.eat(\"Pedigree\")\n"
   ]
  },
  {
   "cell_type": "code",
   "execution_count": 49,
   "metadata": {},
   "outputs": [],
   "source": [
    "class animal1:\n",
    "    def __init__(self,name,age):\n",
    "        self.name=name\n",
    "        self.age=age\n",
    "    def sound(self, voice):\n",
    "        print(\"The animal {0}  \",.format( self.name, voice))\n",
    "    def walk(self,walk):\n",
    "        print(\"The animal\",.format(self.name,walks))\n",
    "    def eat(self,eat):\n",
    "        print(\"this animal\",.format(self.name,eat))\n",
    "        "
   ]
  },
  {
   "cell_type": "code",
   "execution_count": 59,
   "metadata": {},
   "outputs": [],
   "source": [
    "x=animal1('dog', 12)\n",
    "x=animal1('cat',13)"
   ]
  },
  {
   "cell_type": "code",
   "execution_count": 60,
   "metadata": {},
   "outputs": [
    {
     "name": "stdout",
     "output_type": "stream",
     "text": [
      "the animal cat bark\n",
      "the animal cat mews\n"
     ]
    }
   ],
   "source": [
    "x.sound(\"bark\")\n",
    "x.sound(\"mews\")\n"
   ]
  },
  {
   "cell_type": "code",
   "execution_count": 16,
   "metadata": {},
   "outputs": [
    {
     "name": "stdout",
     "output_type": "stream",
     "text": [
      "50000\n",
      "JaneDoe\n",
      "Employee bonus 1.1\n",
      "self bonus 1.1\n",
      "55000\n",
      "50000\n",
      "JannnDon\n",
      "Employee bonus 1.1\n",
      "self bonus 1.1\n",
      "55000\n"
     ]
    },
    {
     "data": {
      "text/plain": [
       "55000"
      ]
     },
     "execution_count": 16,
     "metadata": {},
     "output_type": "execute_result"
    }
   ],
   "source": [
    "class employee:\n",
    "    bonus=1.10\n",
    "    \n",
    "    def __init__(self,first,last,pay):\n",
    "        self.first = first\n",
    "        self.last = last\n",
    "        self.pay = pay\n",
    "        self.email = self.first + \".\" + self.last + \"@deerwalk.com\"\n",
    "        \n",
    "    def fullname(self):\n",
    "        return \"{}{}\".format(self.first, self.last)\n",
    "    \n",
    "    def bonus1(self):\n",
    "        print(\"Employee bonus\",employee.bonus)\n",
    "        print(\"self bonus\",self.bonus)\n",
    "        self.pay = int(self.pay * self.bonus)\n",
    "        return self.pay\n",
    "        \n",
    "emp1 = employee(\"Jane\",\"Doe\",50000)\n",
    "print(emp1.pay)\n",
    "print(emp1.fullname())\n",
    "print(emp1.bonus1())\n",
    "emp1.pay\n",
    "\n",
    "emp2 = employee(\"Jannn\",\"Don\",50000)\n",
    "print(emp2.pay)\n",
    "print(emp2.fullname())\n",
    "print(emp2.bonus1())\n",
    "emp2.pay\n",
    "\n"
   ]
  },
  {
   "cell_type": "code",
   "execution_count": 17,
   "metadata": {},
   "outputs": [
    {
     "name": "stdout",
     "output_type": "stream",
     "text": [
      "5000\n",
      "Ram Nepal\n",
      "Employee bonus 1.1\n",
      "self bonus 1.3\n",
      "6500\n"
     ]
    },
    {
     "data": {
      "text/plain": [
       "6500"
      ]
     },
     "execution_count": 17,
     "metadata": {},
     "output_type": "execute_result"
    }
   ],
   "source": [
    "emp3 = employee(\"Ram\",\" Nepal\",5000)\n",
    "print(emp3.pay)\n",
    "print(emp3.fullname())\n",
    "emp3.bonus=1.30\n",
    "print(emp3.bonus1())\n",
    "emp3.pay\n"
   ]
  },
  {
   "cell_type": "code",
   "execution_count": 23,
   "metadata": {},
   "outputs": [
    {
     "name": "stdout",
     "output_type": "stream",
     "text": [
      "JaneDoe@example.com\n"
     ]
    }
   ],
   "source": [
    "class Employee:\n",
    "    \n",
    "    def __init__(self,first,last):\n",
    "        self.first=first\n",
    "        self.last=last\n",
    "        self._email=None\n",
    "        \n",
    "    @property\n",
    "    def email(self):\n",
    "        return self.first + self.last + \"@example.com\"\n",
    "    \n",
    "    @email.setter\n",
    "    def email(self, new_email):\n",
    "        return new_email\n",
    "    \n",
    "    \n",
    "    \n",
    "emp1 = Employee(\"Jane\",\"Doe\")\n",
    "print(emp1.email)"
   ]
  },
  {
   "cell_type": "code",
   "execution_count": 24,
   "metadata": {},
   "outputs": [],
   "source": [
    "emp1._email = \"email@gmail.com\"\n"
   ]
  },
  {
   "cell_type": "code",
   "execution_count": 26,
   "metadata": {},
   "outputs": [
    {
     "data": {
      "text/plain": [
       "'email@gmail.com'"
      ]
     },
     "execution_count": 26,
     "metadata": {},
     "output_type": "execute_result"
    }
   ],
   "source": [
    "emp1._email"
   ]
  },
  {
   "cell_type": "code",
   "execution_count": 22,
   "metadata": {},
   "outputs": [
    {
     "name": "stdout",
     "output_type": "stream",
     "text": [
      "False\n"
     ]
    }
   ],
   "source": [
    "print(isinstance(emp1,int))"
   ]
  },
  {
   "cell_type": "code",
   "execution_count": 2,
   "metadata": {},
   "outputs": [],
   "source": [
    "class Employee:\n",
    "    bonus1 = 1.10\n",
    "    \n",
    "    def __init__(self,first,last,pay):\n",
    "        self.first = first\n",
    "        self.last = last\n",
    "        self.pay = pay\n",
    "#         self.email = self.first + \".\" + self.last + \"@deerwalk.com\"\n",
    "    def fullname(self):\n",
    "        return\"{} {}\".format(self.first, self.last)\n",
    "    def bonus(self):\n",
    "        print(\"Employee.bonus1\", Employee.bonus1)\n",
    "        print(\"self.bonus1\", self.bonus1)\n",
    "        self.pay = int(self.pay * self.bonus1)\n",
    "        return self.pay\n",
    "    @classmethod #decorator\n",
    "    def split(cls,x):\n",
    "        first, last, pay = x.split(\"-\")\n",
    "        return cls(first, last, int(pay))\n",
    "    @property\n",
    "    def email(self):\n",
    "        return self.first + \".\" + self.last + \"@deerwalk.com\""
   ]
  },
  {
   "cell_type": "code",
   "execution_count": 4,
   "metadata": {},
   "outputs": [
    {
     "name": "stdout",
     "output_type": "stream",
     "text": [
      "20000\n",
      "Neha Smit\n",
      "Employee.bonus1 1.1\n",
      "self.bonus1 1.3\n",
      "26000\n"
     ]
    },
    {
     "data": {
      "text/plain": [
       "'Neha.Smit@deerwalk.com'"
      ]
     },
     "execution_count": 4,
     "metadata": {},
     "output_type": "execute_result"
    }
   ],
   "source": [
    "emp3 = Employee('Neha', 'Smit', 20000)\n",
    "print(emp3.pay)\n",
    "print(emp3.fullname())\n",
    "emp3.bonus1 = 1.30\n",
    "print(emp3.bonus())\n",
    "emp3.pay\n",
    "emp3.email"
   ]
  },
  {
   "cell_type": "code",
   "execution_count": 7,
   "metadata": {},
   "outputs": [
    {
     "name": "stdout",
     "output_type": "stream",
     "text": [
      "Shraddha Maharjan\n",
      "30000\n",
      "Employee.bonus1 1.1\n",
      "self.bonus1 1.1\n",
      "33000\n"
     ]
    },
    {
     "data": {
      "text/plain": [
       "'Shraddha.Maharjan@deerwalk.com'"
      ]
     },
     "execution_count": 7,
     "metadata": {},
     "output_type": "execute_result"
    }
   ],
   "source": [
    "x = Employee.split('Shraddha-Maharjan-30000')\n",
    "print(x.fullname())\n",
    "print(x.pay)\n",
    "print(x.bonus())\n",
    "x.pay\n",
    "x.email"
   ]
  },
  {
   "cell_type": "code",
   "execution_count": 10,
   "metadata": {},
   "outputs": [],
   "source": [
    "class days:\n",
    "    @staticmethod #decorator\n",
    "    def holiday(x):\n",
    "        if x == \"sat\" or x==\"sun\":\n",
    "            return True \n",
    "        else:\n",
    "            return False "
   ]
  },
  {
   "cell_type": "code",
   "execution_count": 12,
   "metadata": {},
   "outputs": [
    {
     "data": {
      "text/plain": [
       "False"
      ]
     },
     "execution_count": 12,
     "metadata": {},
     "output_type": "execute_result"
    }
   ],
   "source": [
    "days.holiday(\"mon\")"
   ]
  },
  {
   "cell_type": "code",
   "execution_count": 14,
   "metadata": {},
   "outputs": [],
   "source": [
    "x = days()"
   ]
  },
  {
   "cell_type": "code",
   "execution_count": 16,
   "metadata": {},
   "outputs": [
    {
     "data": {
      "text/plain": [
       "True"
      ]
     },
     "execution_count": 16,
     "metadata": {},
     "output_type": "execute_result"
    }
   ],
   "source": [
    "x.holiday(\"sun\")"
   ]
  },
  {
   "cell_type": "code",
   "execution_count": null,
   "metadata": {},
   "outputs": [],
   "source": []
  }
 ],
 "metadata": {
  "kernelspec": {
   "display_name": "Python 3",
   "language": "python",
   "name": "python3"
  },
  "language_info": {
   "codemirror_mode": {
    "name": "ipython",
    "version": 3
   },
   "file_extension": ".py",
   "mimetype": "text/x-python",
   "name": "python",
   "nbconvert_exporter": "python",
   "pygments_lexer": "ipython3",
   "version": "3.6.7"
  }
 },
 "nbformat": 4,
 "nbformat_minor": 2
}
