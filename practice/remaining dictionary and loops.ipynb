{
 "cells": [
  {
   "cell_type": "code",
   "execution_count": 1,
   "metadata": {},
   "outputs": [],
   "source": [
    "phone_book = {\n",
    "    \"ncell\": \"98073XXXXX\",\n",
    "    \"ntc\":\"98402XXXXX\",\n",
    "    \"sky\": \"9820######\"\n",
    "}"
   ]
  },
  {
   "cell_type": "code",
   "execution_count": 4,
   "metadata": {},
   "outputs": [
    {
     "name": "stdout",
     "output_type": "stream",
     "text": [
      "None\n"
     ]
    }
   ],
   "source": [
    "print(phone_book.clear())"
   ]
  },
  {
   "cell_type": "code",
   "execution_count": 6,
   "metadata": {},
   "outputs": [
    {
     "name": "stdout",
     "output_type": "stream",
     "text": [
      "The Sopranos\n",
      "The Wire\n",
      "Band of Brothers\n",
      "Game of Thrones\n"
     ]
    }
   ],
   "source": [
    "hbo_tv_shows = {'The Sopranos': 9.2, 'The Wire': 9.3, 'Band of Brothers': 9.5, 'Game of Thrones': 9.5}\n",
    "for items in hbo_tv_shows:\n",
    "    print(items)"
   ]
  },
  {
   "cell_type": "code",
   "execution_count": 8,
   "metadata": {},
   "outputs": [
    {
     "name": "stdout",
     "output_type": "stream",
     "text": [
      "The Sopranos 9.2\n",
      "The Wire 9.3\n",
      "Band of Brothers 9.5\n",
      "Game of Thrones 9.5\n"
     ]
    }
   ],
   "source": [
    "for k,v in hbo_tv_shows.items():\n",
    "    print(k,v)\n",
    "    "
   ]
  },
  {
   "cell_type": "code",
   "execution_count": 13,
   "metadata": {},
   "outputs": [
    {
     "name": "stdout",
     "output_type": "stream",
     "text": [
      "The Sopranos 9.2\n",
      "The Wire 9.3\n",
      "Band of Brothers 9.5\n",
      "Game of Thrones 9.5\n",
      "Breaking Bad 9.5\n",
      "Better Call Saul 8.7\n",
      "The Walking Dead 8.5\n"
     ]
    }
   ],
   "source": [
    "tv_shows = {\n",
    "    \"HBO\": {'The Sopranos': 9.2, 'The Wire': 9.3, 'Band of Brothers': 9.5, 'Game of Thrones': 9.5},\n",
    "    \"AMC\": {\"Breaking Bad\":9.5, \"Better Call Saul\":8.7, \"The Walking Dead\":8.5}\n",
    "}\n",
    "for k,v in tv_shows.items():\n",
    "    for i,j in v.items():\n",
    "        print(i,j)"
   ]
  },
  {
   "cell_type": "code",
   "execution_count": 17,
   "metadata": {},
   "outputs": [
    {
     "name": "stdout",
     "output_type": "stream",
     "text": [
      "the rating of The Sopranos is 9.2\n",
      "the rating of The Wire is 9.3\n",
      "the rating of Band of Brothers is 9.5\n",
      "the rating of Game of Thrones is 9.5\n",
      "the rating of Breaking Bad is 9.5\n",
      "the rating of Better Call Saul is 8.7\n",
      "the rating of The Walking Dead is 8.5\n"
     ]
    }
   ],
   "source": [
    "for k,v in tv_shows.items():\n",
    "    for i,j in v.items():\n",
    "        print(\"the rating of\",i,\"is\",j)"
   ]
  },
  {
   "cell_type": "code",
   "execution_count": 21,
   "metadata": {},
   "outputs": [
    {
     "name": "stdout",
     "output_type": "stream",
     "text": [
      "The rating of The Walking Dead is 8.5\n"
     ]
    }
   ],
   "source": [
    "print(\"The rating of {0} is {1}\".format(i,j))"
   ]
  },
  {
   "cell_type": "code",
   "execution_count": 23,
   "metadata": {},
   "outputs": [
    {
     "name": "stdout",
     "output_type": "stream",
     "text": [
      "The rating of The Walking Dead is 8.5\n"
     ]
    }
   ],
   "source": [
    "print(\"The rating of {} is {}\".format(i,j))"
   ]
  },
  {
   "cell_type": "code",
   "execution_count": 25,
   "metadata": {},
   "outputs": [
    {
     "name": "stdout",
     "output_type": "stream",
     "text": [
      "The rating of 8.5 is The Walking Dead\n"
     ]
    }
   ],
   "source": [
    "print(\"The rating of {0} is {1}\".format(j,i))"
   ]
  },
  {
   "cell_type": "code",
   "execution_count": 39,
   "metadata": {},
   "outputs": [
    {
     "name": "stdout",
     "output_type": "stream",
     "text": [
      "Breaking Bad\n",
      "9.5\n"
     ]
    }
   ],
   "source": [
    "amc_tv_shows = {\"Breaking Bad\":9.5, \"Better Call Saul\":8.7, \"The Walking Dead\":8.5}\n",
    "if(input()==\"Breaking Bad\"):\n",
    "    print(amc_tv_shows.get(\"Breaking Bad\"))\n",
    "elif(input()==\"Better call saul\"):\n",
    "    print(amc_tv_shows.get(\"Better call saul\"))\n",
    "elif(input()==\"The Walking Dead\"):\n",
    "    print(amc_tv_shows.get(\"The Walking Dead\"))\n",
    "    "
   ]
  },
  {
   "cell_type": "code",
   "execution_count": 36,
   "metadata": {},
   "outputs": [
    {
     "name": "stdout",
     "output_type": "stream",
     "text": [
      "is dict The Sopranos 9.2\n",
      "is dict The Wire 9.3\n",
      "is dict Band of Brothers 9.5\n",
      "is dict Game of Thrones 9.5\n",
      "is dict Breaking Bad 9.5\n",
      "is dict Better Call Saul 8.7\n",
      "is dict The Walking Dead 8.5\n"
     ]
    }
   ],
   "source": [
    "tv_shows = {\n",
    "    \"HBO\": {'The Sopranos': 9.2, 'The Wire': 9.3, 'Band of Brothers': 9.5, 'Game of Thrones': 9.5},\n",
    "    \"AMC\": {\"Breaking Bad\":9.5, \"Better Call Saul\":8.7, \"The Walking Dead\":8.5}\n",
    "}\n",
    "for k,v in tv_shows.items():\n",
    "    if (type(v)==dict):\n",
    "        for i,j in v.items():\n",
    "            print(\"is dict\",i,j)\n",
    "    else:\n",
    "            print(\"isnot dict\",v)\n",
    "        "
   ]
  },
  {
   "cell_type": "code",
   "execution_count": 40,
   "metadata": {},
   "outputs": [
    {
     "name": "stdout",
     "output_type": "stream",
     "text": [
      "Breaking Bad\n",
      "9.5\n"
     ]
    }
   ],
   "source": [
    "a=input()\n",
    "if(amc_tv_shows.get(a)):\n",
    "    print(amc_tv_shows.get(a))\n",
    "else:\n",
    "    print(\"Not found\")\n"
   ]
  },
  {
   "cell_type": "code",
   "execution_count": null,
   "metadata": {},
   "outputs": [],
   "source": []
  }
 ],
 "metadata": {
  "kernelspec": {
   "display_name": "Python 3",
   "language": "python",
   "name": "python3"
  },
  "language_info": {
   "codemirror_mode": {
    "name": "ipython",
    "version": 3
   },
   "file_extension": ".py",
   "mimetype": "text/x-python",
   "name": "python",
   "nbconvert_exporter": "python",
   "pygments_lexer": "ipython3",
   "version": "3.6.7"
  }
 },
 "nbformat": 4,
 "nbformat_minor": 2
}
