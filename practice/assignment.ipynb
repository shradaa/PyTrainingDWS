{
 "cells": [
  {
   "cell_type": "code",
   "execution_count": 3,
   "metadata": {},
   "outputs": [],
   "source": []
  },
  {
   "cell_type": "markdown",
   "metadata": {},
   "source": [
    "Q.1 We have v=u+at where v is velocity, u is initial velocity, and t is time. And value for each is as follows: v=25m/s. u=0m/s, t=10 seconds. Find thacceleration a.[Rearrange the equation, also use proper formatting syntax while displaying the answer.]"
   ]
  },
  {
   "cell_type": "code",
   "execution_count": 2,
   "metadata": {},
   "outputs": [
    {
     "name": "stdout",
     "output_type": "stream",
     "text": [
      "The acceleration a is 2.5m/s\n"
     ]
    }
   ],
   "source": [
    "v=25\n",
    "u=0\n",
    "t=10\n",
    "a=(v-u)/t\n",
    "print(\"The acceleration a is\", str(a) + \"m/s\")\n"
   ]
  },
  {
   "cell_type": "code",
   "execution_count": 8,
   "metadata": {},
   "outputs": [],
   "source": [
    " ##Q.2 Get first name and last name from a user and concatenate them to make a full name."
   ]
  },
  {
   "cell_type": "code",
   "execution_count": 21,
   "metadata": {},
   "outputs": [
    {
     "name": "stdout",
     "output_type": "stream",
     "text": [
      "My full name is Shraddha Maharjan\n"
     ]
    }
   ],
   "source": [
    "fname=\"Shraddha\"\n",
    "lname=\"Maharjan\"\n",
    "fullname=fname+\" \"+lname\n",
    "print(\"My full name is\",fullname)"
   ]
  },
  {
   "cell_type": "code",
   "execution_count": 16,
   "metadata": {},
   "outputs": [],
   "source": [
    "##Q3. Take an arbitrary input string from user and print it 10 times."
   ]
  },
  {
   "cell_type": "code",
   "execution_count": 24,
   "metadata": {},
   "outputs": [
    {
     "name": "stdout",
     "output_type": "stream",
     "text": [
      "Enter a string:hello\n",
      "hello hello hello hello hello hello hello hello hello hello\n"
     ]
    }
   ],
   "source": [
    "st=input(\"Enter a string:\")\n",
    "print(*10*(st,), sep=' ')\n",
    "\n"
   ]
  },
  {
   "cell_type": "code",
   "execution_count": null,
   "metadata": {},
   "outputs": [],
   "source": [
    "##Q5. Write a program that takes three numbers and prints their sum. Every number is given on a separate line. "
   ]
  },
  {
   "cell_type": "code",
   "execution_count": 1,
   "metadata": {},
   "outputs": [
    {
     "name": "stdout",
     "output_type": "stream",
     "text": [
      "12\n",
      "2\n",
      "23\n",
      "The sum is: 37\n"
     ]
    }
   ],
   "source": [
    "a=int(input()) \n",
    "b=int(input()) \n",
    "c=int(input()) \n",
    "print(\"The sum is:\",a+b+c)"
   ]
  },
  {
   "cell_type": "code",
   "execution_count": 8,
   "metadata": {},
   "outputs": [],
   "source": [
    "##Q6. Write a program which accepts a sequence of comma-separated numbers from console and generate a list and a tuple which contains every number. \n",
    "##Suppose the following input is supplied to the program:34,67,55,33,12,98\n"
   ]
  },
  {
   "cell_type": "code",
   "execution_count": 1,
   "metadata": {},
   "outputs": [
    {
     "name": "stdout",
     "output_type": "stream",
     "text": [
      "Enter numbers seperated by : 34,67,55,33,12,98\n",
      "list is  ['34', '67', '55', '33', '12', '98']\n",
      "tuple is  ('34', '67', '55', '33', '12', '98')\n"
     ]
    }
   ],
   "source": [
    "numbers = input(\"Enter numbers seperated by : \") \n",
    "my_list = numbers.split(\",\")\n",
    "my_tuple = tuple(my_list)\n",
    "print(\"list is \", my_list)\n",
    "print(\"tuple is \", my_tuple)"
   ]
  },
  {
   "cell_type": "code",
   "execution_count": 4,
   "metadata": {},
   "outputs": [],
   "source": [
    "## Q7. Write a program that accepts a sequence of whitespace separated words as input and prints the words \n",
    "#after removing all duplicate words and sorting them alphanumerically.\n",
    "#Suppose the following input is supplied to the program:\n",
    "#hello world and practice makes perfect and hello world again\n",
    "#Then, the output should be: again and hello makes perfect practice world\n"
   ]
  },
  {
   "cell_type": "code",
   "execution_count": 1,
   "metadata": {},
   "outputs": [
    {
     "name": "stdout",
     "output_type": "stream",
     "text": [
      "Enter sequence of words separated by whitespace: apple apple apple\n",
      "apple\n"
     ]
    }
   ],
   "source": [
    "words = input(\"Enter sequence of words separated by whitespace: \").split(' ')\n",
    "sequence = set(words)\n",
    "print(' '.join(sorted(sequence)))\n"
   ]
  },
  {
   "cell_type": "code",
   "execution_count": 5,
   "metadata": {},
   "outputs": [],
   "source": []
  },
  {
   "cell_type": "code",
   "execution_count": null,
   "metadata": {},
   "outputs": [],
   "source": [
    "\n"
   ]
  },
  {
   "cell_type": "code",
   "execution_count": null,
   "metadata": {},
   "outputs": [],
   "source": []
  }
 ],
 "metadata": {
  "kernelspec": {
   "display_name": "Python 3",
   "language": "python",
   "name": "python3"
  },
  "language_info": {
   "codemirror_mode": {
    "name": "ipython",
    "version": 3
   },
   "file_extension": ".py",
   "mimetype": "text/x-python",
   "name": "python",
   "nbconvert_exporter": "python",
   "pygments_lexer": "ipython3",
   "version": "3.6.7"
  }
 },
 "nbformat": 4,
 "nbformat_minor": 2
}
