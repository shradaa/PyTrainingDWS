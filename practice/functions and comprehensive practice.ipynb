{
 "cells": [
  {
   "cell_type": "code",
   "execution_count": 2,
   "metadata": {},
   "outputs": [
    {
     "name": "stdout",
     "output_type": "stream",
     "text": [
      "1\n",
      "2\n"
     ]
    },
    {
     "data": {
      "text/plain": [
       "3"
      ]
     },
     "execution_count": 2,
     "metadata": {},
     "output_type": "execute_result"
    }
   ],
   "source": [
    "def add(a,b):\n",
    "    return(a+b)\n",
    "add(int(input()),int(input()))"
   ]
  },
  {
   "cell_type": "code",
   "execution_count": 7,
   "metadata": {},
   "outputs": [
    {
     "name": "stdout",
     "output_type": "stream",
     "text": [
      "----------\n",
      "hello world\n",
      "----------\n"
     ]
    }
   ],
   "source": [
    "def dash():\n",
    "    print(\"-\"*10)\n",
    "    print(\"hello world\")\n",
    "    print(\"-\"*10)\n",
    "dash()"
   ]
  },
  {
   "cell_type": "code",
   "execution_count": 10,
   "metadata": {},
   "outputs": [
    {
     "name": "stdout",
     "output_type": "stream",
     "text": [
      "12\n",
      "2\n",
      "The sum of 12+2 is:14\n"
     ]
    }
   ],
   "source": [
    "def add(a,b):\n",
    "    print(\"The sum of {0}+{1} is:\".format(a,b)+str(int(a+b)))\n",
    "    \n",
    "add(int(input()),int(input()))\n"
   ]
  },
  {
   "cell_type": "code",
   "execution_count": 3,
   "metadata": {},
   "outputs": [
    {
     "name": "stdout",
     "output_type": "stream",
     "text": [
      "12\n",
      "the square of 12 is:144\n"
     ]
    }
   ],
   "source": [
    "def square(a):\n",
    "    print(\"the square of {0} is:\".format(a)+ str(int(a*a)))\n",
    "\n",
    "square(int(input()))"
   ]
  },
  {
   "cell_type": "code",
   "execution_count": 1,
   "metadata": {},
   "outputs": [
    {
     "name": "stdout",
     "output_type": "stream",
     "text": [
      "Default style\n",
      "+++++++++++++++++++++++++++++\n",
      "hello world\n",
      "+++++++++++++++++++++++++++++\n",
      "\n",
      "style character *\n",
      "*****************************\n",
      "hello world\n",
      "*****************************\n",
      "\n",
      "style character =\n",
      "=============================\n",
      "hello world\n",
      "=============================\n"
     ]
    }
   ],
   "source": [
    "def greeting(style_char=\"+\"):\n",
    "    print(style_char*29)\n",
    "    print(\"hello world\")\n",
    "    print(style_char*29)\n",
    "\n",
    "print(\"Default style\")\n",
    "greeting()\n",
    "print(\"\\nstyle character *\")\n",
    "greeting('*')\n",
    "print(\"\\nstyle character =\")\n",
    "greeting(style_char='=')"
   ]
  },
  {
   "cell_type": "code",
   "execution_count": 6,
   "metadata": {},
   "outputs": [
    {
     "name": "stdout",
     "output_type": "stream",
     "text": [
      "shradd\n",
      "maha\n",
      "9801\n",
      "fname:shradd\n",
      "lname:maha\n",
      "phn number:9801\n"
     ]
    }
   ],
   "source": [
    "def contact(a,b,c=\"******\"):\n",
    "    print(\"fname:\"+a)\n",
    "    print(\"lname:\"+b)\n",
    "    print(\"phn number:\"+c)\n",
    "    \n",
    "contact(input(),input(),input())"
   ]
  },
  {
   "cell_type": "code",
   "execution_count": 2,
   "metadata": {},
   "outputs": [
    {
     "name": "stdout",
     "output_type": "stream",
     "text": [
      "9\n"
     ]
    }
   ],
   "source": [
    "def function(**kwargs):\n",
    "    total  = 0\n",
    "    for k,v in kwargs.items():\n",
    "        total += kwargs.get(k)\n",
    "    print(total)\n",
    "    \n",
    "function(x=1,y=2,z=6)\n",
    "    "
   ]
  },
  {
   "cell_type": "code",
   "execution_count": 16,
   "metadata": {},
   "outputs": [
    {
     "data": {
      "text/plain": [
       "4"
      ]
     },
     "execution_count": 16,
     "metadata": {},
     "output_type": "execute_result"
    }
   ],
   "source": [
    "\n",
    "x=lambda a:a*a\n",
    "\n",
    "x(2)\n"
   ]
  },
  {
   "cell_type": "code",
   "execution_count": 15,
   "metadata": {},
   "outputs": [
    {
     "data": {
      "text/plain": [
       "20"
      ]
     },
     "execution_count": 15,
     "metadata": {},
     "output_type": "execute_result"
    }
   ],
   "source": [
    "x=lambda a=10:a+10\n",
    "x()\n"
   ]
  },
  {
   "cell_type": "code",
   "execution_count": 24,
   "metadata": {},
   "outputs": [
    {
     "data": {
      "text/plain": [
       "4"
      ]
     },
     "execution_count": 24,
     "metadata": {},
     "output_type": "execute_result"
    }
   ],
   "source": [
    "def maximum(x,y):\n",
    "    if(x>y):\n",
    "        return(x)\n",
    "    else:\n",
    "        return(y)\n",
    "    \n",
    "maximum(3,4)\n",
    "        "
   ]
  },
  {
   "cell_type": "code",
   "execution_count": 27,
   "metadata": {},
   "outputs": [
    {
     "data": {
      "text/plain": [
       "2"
      ]
     },
     "execution_count": 27,
     "metadata": {},
     "output_type": "execute_result"
    }
   ],
   "source": [
    "a=lambda x,y:x if(x>y)else y\n",
    "a(1,2)"
   ]
  },
  {
   "cell_type": "code",
   "execution_count": 29,
   "metadata": {},
   "outputs": [
    {
     "data": {
      "text/plain": [
       "0.5"
      ]
     },
     "execution_count": 29,
     "metadata": {},
     "output_type": "execute_result"
    }
   ],
   "source": [
    "def div(a,b):\n",
    "    if(b==0):\n",
    "        return(\"cannot divide by 0\")\n",
    "    else:\n",
    "        return(a/b)\n",
    "div(1,2)"
   ]
  },
  {
   "cell_type": "code",
   "execution_count": 31,
   "metadata": {},
   "outputs": [
    {
     "data": {
      "text/plain": [
       "0.6666666666666666"
      ]
     },
     "execution_count": 31,
     "metadata": {},
     "output_type": "execute_result"
    }
   ],
   "source": [
    "div=lambda a,b:\"cannot divide by 0\" if(b==0)else a/b\n",
    "div(2,3)\n"
   ]
  },
  {
   "cell_type": "code",
   "execution_count": 24,
   "metadata": {},
   "outputs": [],
   "source": [
    "def convert(inch,foot):\n",
    "    \n",
    "    convert(inch/12,(\"feet\"))\n",
    "        "
   ]
  },
  {
   "cell_type": "code",
   "execution_count": 34,
   "metadata": {},
   "outputs": [],
   "source": [
    "def addition(a,b):\n",
    "    total = a+b\n",
    "    return(total)\n",
    "\n",
    "\n",
    "\n",
    "\n",
    "    "
   ]
  },
  {
   "cell_type": "code",
   "execution_count": 35,
   "metadata": {},
   "outputs": [
    {
     "data": {
      "text/plain": [
       "206"
      ]
     },
     "execution_count": 35,
     "metadata": {},
     "output_type": "execute_result"
    }
   ],
   "source": [
    "L=[11,21,77,44,53]\n",
    "result = L[0]\n",
    "for x in L[1:]:\n",
    "    result = result + x\n",
    "    \n",
    "result\n"
   ]
  },
  {
   "cell_type": "code",
   "execution_count": 36,
   "metadata": {},
   "outputs": [
    {
     "name": "stdout",
     "output_type": "stream",
     "text": [
      "165\n"
     ]
    }
   ],
   "source": [
    "from functools import reduce \n",
    "x=reduce(addition,[11,22,33,44,55])\n",
    "print(x)"
   ]
  },
  {
   "cell_type": "code",
   "execution_count": 38,
   "metadata": {},
   "outputs": [
    {
     "ename": "IndentationError",
     "evalue": "expected an indented block (<ipython-input-38-22930d059d53>, line 3)",
     "output_type": "error",
     "traceback": [
      "\u001b[1;36m  File \u001b[1;32m\"<ipython-input-38-22930d059d53>\"\u001b[1;36m, line \u001b[1;32m3\u001b[0m\n\u001b[1;33m    for each in list1:\u001b[0m\n\u001b[1;37m      ^\u001b[0m\n\u001b[1;31mIndentationError\u001b[0m\u001b[1;31m:\u001b[0m expected an indented block\n"
     ]
    }
   ],
   "source": [
    "list1=list(range(0,10))\n",
    "def check(args):\n",
    "for each in list1:\n",
    "        x%2==0\n",
    "\n"
   ]
  },
  {
   "cell_type": "code",
   "execution_count": 40,
   "metadata": {},
   "outputs": [
    {
     "name": "stdout",
     "output_type": "stream",
     "text": [
      "[0, 2, 4, 6, 8]\n"
     ]
    }
   ],
   "source": [
    "my_list = list(range(0,10))\n",
    "x=[n for n in my_list if n%2==0]\n",
    "print(x)\n"
   ]
  },
  {
   "cell_type": "code",
   "execution_count": 43,
   "metadata": {},
   "outputs": [
    {
     "name": "stdout",
     "output_type": "stream",
     "text": [
      "[1, 3, 5, 7, 9]\n"
     ]
    }
   ],
   "source": [
    "my_list = list(range(0,10))\n",
    "x=[n for n in my_list if n%2!=0]\n",
    "print(x)"
   ]
  },
  {
   "cell_type": "code",
   "execution_count": 3,
   "metadata": {},
   "outputs": [
    {
     "name": "stdout",
     "output_type": "stream",
     "text": [
      "(0, 1)\n",
      "(1, 2)\n",
      "(2, 7)\n",
      "(3, 9)\n"
     ]
    }
   ],
   "source": [
    "L=[1,2,7,9]\n",
    "for items in enumerate(L):\n",
    "    print(items)\n",
    "    \n",
    "    "
   ]
  },
  {
   "cell_type": "code",
   "execution_count": 5,
   "metadata": {},
   "outputs": [
    {
     "name": "stdout",
     "output_type": "stream",
     "text": [
      "[(0, 1), (1, 2), (2, 7), (3, 9)]\n"
     ]
    }
   ],
   "source": [
    "x=[n for n in enumerate(L)]\n",
    "print(x)"
   ]
  },
  {
   "cell_type": "code",
   "execution_count": 7,
   "metadata": {},
   "outputs": [
    {
     "name": "stdout",
     "output_type": "stream",
     "text": [
      "[('a', 0), ('a', 1), ('a', 2), ('b', 0), ('b', 1), ('b', 2), ('c', 0), ('c', 1), ('c', 2)]\n"
     ]
    }
   ],
   "source": [
    "my_str=\"abc\"\n",
    "my_list=[]\n",
    "for letter in my_str:\n",
    "    for index in range(len(my_str)):\n",
    "        my_list.append((letter,index))\n",
    "print(my_list)"
   ]
  },
  {
   "cell_type": "code",
   "execution_count": 13,
   "metadata": {},
   "outputs": [
    {
     "name": "stdout",
     "output_type": "stream",
     "text": [
      "{'a': 'x', 'b': 'y', 'c': 'z'}\n"
     ]
    }
   ],
   "source": [
    "FN=['a','b','c']\n",
    "LN=['x','y','z']\n",
    "result=zip(FN,LN)\n",
    "print(dict(result))"
   ]
  },
  {
   "cell_type": "code",
   "execution_count": 19,
   "metadata": {},
   "outputs": [
    {
     "data": {
      "text/plain": [
       "{'a': 'x', 'b': 'y', 'c': 'z'}"
      ]
     },
     "execution_count": 19,
     "metadata": {},
     "output_type": "execute_result"
    }
   ],
   "source": [
    "x={a:b for a,b in zip(FN,LN)}\n",
    "x"
   ]
  },
  {
   "cell_type": "code",
   "execution_count": 22,
   "metadata": {},
   "outputs": [
    {
     "data": {
      "text/plain": [
       "[['a', 'x'], ['b', 'y'], ['c', 'z']]"
      ]
     },
     "execution_count": 22,
     "metadata": {},
     "output_type": "execute_result"
    }
   ],
   "source": [
    "x=[[a,b] for a,b in zip(FN,LN)]\n",
    "x"
   ]
  },
  {
   "cell_type": "code",
   "execution_count": 24,
   "metadata": {},
   "outputs": [
    {
     "name": "stdout",
     "output_type": "stream",
     "text": [
      "[1, 2, 3, 4, 5]\n"
     ]
    }
   ],
   "source": [
    "L=list({1,2,3,4,5})\n",
    "print(L)\n"
   ]
  },
  {
   "cell_type": "code",
   "execution_count": null,
   "metadata": {},
   "outputs": [],
   "source": [
    "#tuple"
   ]
  },
  {
   "cell_type": "code",
   "execution_count": 27,
   "metadata": {},
   "outputs": [
    {
     "data": {
      "text/plain": [
       "{1, 2, 3, 4, 5}"
      ]
     },
     "execution_count": 27,
     "metadata": {},
     "output_type": "execute_result"
    }
   ],
   "source": [
    "{s for s in [1,2,3,4,5]}"
   ]
  },
  {
   "cell_type": "code",
   "execution_count": null,
   "metadata": {},
   "outputs": [],
   "source": []
  }
 ],
 "metadata": {
  "kernelspec": {
   "display_name": "Python 3",
   "language": "python",
   "name": "python3"
  },
  "language_info": {
   "codemirror_mode": {
    "name": "ipython",
    "version": 3
   },
   "file_extension": ".py",
   "mimetype": "text/x-python",
   "name": "python",
   "nbconvert_exporter": "python",
   "pygments_lexer": "ipython3",
   "version": "3.6.7"
  }
 },
 "nbformat": 4,
 "nbformat_minor": 2
}
